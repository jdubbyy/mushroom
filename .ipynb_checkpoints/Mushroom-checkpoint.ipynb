{
 "cells": [
  {
   "cell_type": "code",
   "execution_count": 1,
   "id": "b479d16a-a159-4068-a3db-f2f1d51320cb",
   "metadata": {},
   "outputs": [],
   "source": [
    "import pandas as pd\n",
    "import numpy as np\n",
    "import matplotlib.pyplot as plt\n",
    "import mushroom_module\n",
    "from mushroom_module import plogp\n",
    "from mushroom_module import Plot_Preparation"
   ]
  },
  {
   "cell_type": "code",
   "execution_count": 2,
   "id": "f30607ed-81fb-4555-8c32-2b84cb46fc17",
   "metadata": {},
   "outputs": [],
   "source": [
    "df = pd.read_csv(r'C:\\CodingProjects\\Mushroom\\UCIrvine_Mushroom_Data\\agaricus-lepiota.data', header=None)"
   ]
  },
  {
   "cell_type": "code",
   "execution_count": 3,
   "id": "887c47ac-60da-47e6-b0b7-e8b07921eea3",
   "metadata": {},
   "outputs": [],
   "source": [
    "schema = ['Edible', 'Cap Shape', 'Cap Surface', 'Cap Color', 'Bruises?', 'Odor',\n",
    "          'Gill Attachment', 'Gill Spacing', 'Gill Size', 'Gill Color', 'Stalk Shape', 'Stalk Root',\n",
    "          'Stalk Surface Above Ring', 'Stalk Surface Below Ring', 'Stalk Color Above Ring', 'Stalk Color Below Ring',\n",
    "          'Veil Type', 'Veil Color', 'Ring Number', 'Ring Type', 'Spore Print Color', 'Population', 'Habitat']"
   ]
  },
  {
   "cell_type": "code",
   "execution_count": 4,
   "id": "8e568c3e-4628-4014-a71d-d02c0a1763e0",
   "metadata": {},
   "outputs": [
    {
     "data": {
      "text/html": [
       "<div>\n",
       "<style scoped>\n",
       "    .dataframe tbody tr th:only-of-type {\n",
       "        vertical-align: middle;\n",
       "    }\n",
       "\n",
       "    .dataframe tbody tr th {\n",
       "        vertical-align: top;\n",
       "    }\n",
       "\n",
       "    .dataframe thead th {\n",
       "        text-align: right;\n",
       "    }\n",
       "</style>\n",
       "<table border=\"1\" class=\"dataframe\">\n",
       "  <thead>\n",
       "    <tr style=\"text-align: right;\">\n",
       "      <th></th>\n",
       "      <th>Edible</th>\n",
       "      <th>Cap Shape</th>\n",
       "      <th>Cap Surface</th>\n",
       "      <th>Cap Color</th>\n",
       "      <th>Bruises?</th>\n",
       "      <th>Odor</th>\n",
       "      <th>Gill Attachment</th>\n",
       "      <th>Gill Spacing</th>\n",
       "      <th>Gill Size</th>\n",
       "      <th>Gill Color</th>\n",
       "      <th>...</th>\n",
       "      <th>Stalk Surface Below Ring</th>\n",
       "      <th>Stalk Color Above Ring</th>\n",
       "      <th>Stalk Color Below Ring</th>\n",
       "      <th>Veil Type</th>\n",
       "      <th>Veil Color</th>\n",
       "      <th>Ring Number</th>\n",
       "      <th>Ring Type</th>\n",
       "      <th>Spore Print Color</th>\n",
       "      <th>Population</th>\n",
       "      <th>Habitat</th>\n",
       "    </tr>\n",
       "  </thead>\n",
       "  <tbody>\n",
       "    <tr>\n",
       "      <th>0</th>\n",
       "      <td>p</td>\n",
       "      <td>x</td>\n",
       "      <td>s</td>\n",
       "      <td>n</td>\n",
       "      <td>t</td>\n",
       "      <td>p</td>\n",
       "      <td>f</td>\n",
       "      <td>c</td>\n",
       "      <td>n</td>\n",
       "      <td>k</td>\n",
       "      <td>...</td>\n",
       "      <td>s</td>\n",
       "      <td>w</td>\n",
       "      <td>w</td>\n",
       "      <td>p</td>\n",
       "      <td>w</td>\n",
       "      <td>o</td>\n",
       "      <td>p</td>\n",
       "      <td>k</td>\n",
       "      <td>s</td>\n",
       "      <td>u</td>\n",
       "    </tr>\n",
       "    <tr>\n",
       "      <th>1</th>\n",
       "      <td>e</td>\n",
       "      <td>x</td>\n",
       "      <td>s</td>\n",
       "      <td>y</td>\n",
       "      <td>t</td>\n",
       "      <td>a</td>\n",
       "      <td>f</td>\n",
       "      <td>c</td>\n",
       "      <td>b</td>\n",
       "      <td>k</td>\n",
       "      <td>...</td>\n",
       "      <td>s</td>\n",
       "      <td>w</td>\n",
       "      <td>w</td>\n",
       "      <td>p</td>\n",
       "      <td>w</td>\n",
       "      <td>o</td>\n",
       "      <td>p</td>\n",
       "      <td>n</td>\n",
       "      <td>n</td>\n",
       "      <td>g</td>\n",
       "    </tr>\n",
       "    <tr>\n",
       "      <th>2</th>\n",
       "      <td>e</td>\n",
       "      <td>b</td>\n",
       "      <td>s</td>\n",
       "      <td>w</td>\n",
       "      <td>t</td>\n",
       "      <td>l</td>\n",
       "      <td>f</td>\n",
       "      <td>c</td>\n",
       "      <td>b</td>\n",
       "      <td>n</td>\n",
       "      <td>...</td>\n",
       "      <td>s</td>\n",
       "      <td>w</td>\n",
       "      <td>w</td>\n",
       "      <td>p</td>\n",
       "      <td>w</td>\n",
       "      <td>o</td>\n",
       "      <td>p</td>\n",
       "      <td>n</td>\n",
       "      <td>n</td>\n",
       "      <td>m</td>\n",
       "    </tr>\n",
       "    <tr>\n",
       "      <th>3</th>\n",
       "      <td>p</td>\n",
       "      <td>x</td>\n",
       "      <td>y</td>\n",
       "      <td>w</td>\n",
       "      <td>t</td>\n",
       "      <td>p</td>\n",
       "      <td>f</td>\n",
       "      <td>c</td>\n",
       "      <td>n</td>\n",
       "      <td>n</td>\n",
       "      <td>...</td>\n",
       "      <td>s</td>\n",
       "      <td>w</td>\n",
       "      <td>w</td>\n",
       "      <td>p</td>\n",
       "      <td>w</td>\n",
       "      <td>o</td>\n",
       "      <td>p</td>\n",
       "      <td>k</td>\n",
       "      <td>s</td>\n",
       "      <td>u</td>\n",
       "    </tr>\n",
       "    <tr>\n",
       "      <th>4</th>\n",
       "      <td>e</td>\n",
       "      <td>x</td>\n",
       "      <td>s</td>\n",
       "      <td>g</td>\n",
       "      <td>f</td>\n",
       "      <td>n</td>\n",
       "      <td>f</td>\n",
       "      <td>w</td>\n",
       "      <td>b</td>\n",
       "      <td>k</td>\n",
       "      <td>...</td>\n",
       "      <td>s</td>\n",
       "      <td>w</td>\n",
       "      <td>w</td>\n",
       "      <td>p</td>\n",
       "      <td>w</td>\n",
       "      <td>o</td>\n",
       "      <td>e</td>\n",
       "      <td>n</td>\n",
       "      <td>a</td>\n",
       "      <td>g</td>\n",
       "    </tr>\n",
       "  </tbody>\n",
       "</table>\n",
       "<p>5 rows × 23 columns</p>\n",
       "</div>"
      ],
      "text/plain": [
       "  Edible Cap Shape Cap Surface Cap Color Bruises? Odor Gill Attachment  \\\n",
       "0      p         x           s         n        t    p               f   \n",
       "1      e         x           s         y        t    a               f   \n",
       "2      e         b           s         w        t    l               f   \n",
       "3      p         x           y         w        t    p               f   \n",
       "4      e         x           s         g        f    n               f   \n",
       "\n",
       "  Gill Spacing Gill Size Gill Color  ... Stalk Surface Below Ring  \\\n",
       "0            c         n          k  ...                        s   \n",
       "1            c         b          k  ...                        s   \n",
       "2            c         b          n  ...                        s   \n",
       "3            c         n          n  ...                        s   \n",
       "4            w         b          k  ...                        s   \n",
       "\n",
       "  Stalk Color Above Ring Stalk Color Below Ring Veil Type Veil Color  \\\n",
       "0                      w                      w         p          w   \n",
       "1                      w                      w         p          w   \n",
       "2                      w                      w         p          w   \n",
       "3                      w                      w         p          w   \n",
       "4                      w                      w         p          w   \n",
       "\n",
       "  Ring Number Ring Type Spore Print Color Population Habitat  \n",
       "0           o         p                 k          s       u  \n",
       "1           o         p                 n          n       g  \n",
       "2           o         p                 n          n       m  \n",
       "3           o         p                 k          s       u  \n",
       "4           o         e                 n          a       g  \n",
       "\n",
       "[5 rows x 23 columns]"
      ]
     },
     "execution_count": 4,
     "metadata": {},
     "output_type": "execute_result"
    }
   ],
   "source": [
    "#Overwriting dataframe column headers with labels\n",
    "df.columns = schema\n",
    "df.head()"
   ]
  },
  {
   "cell_type": "markdown",
   "id": "59d28195",
   "metadata": {},
   "source": [
    "## Checking Data Quality"
   ]
  },
  {
   "cell_type": "code",
   "execution_count": 5,
   "id": "fd5339ce",
   "metadata": {},
   "outputs": [
    {
     "name": "stdout",
     "output_type": "stream",
     "text": [
      "<class 'pandas.core.frame.DataFrame'>\n",
      "RangeIndex: 8124 entries, 0 to 8123\n",
      "Data columns (total 23 columns):\n",
      " #   Column                    Non-Null Count  Dtype \n",
      "---  ------                    --------------  ----- \n",
      " 0   Edible                    8124 non-null   object\n",
      " 1   Cap Shape                 8124 non-null   object\n",
      " 2   Cap Surface               8124 non-null   object\n",
      " 3   Cap Color                 8124 non-null   object\n",
      " 4   Bruises?                  8124 non-null   object\n",
      " 5   Odor                      8124 non-null   object\n",
      " 6   Gill Attachment           8124 non-null   object\n",
      " 7   Gill Spacing              8124 non-null   object\n",
      " 8   Gill Size                 8124 non-null   object\n",
      " 9   Gill Color                8124 non-null   object\n",
      " 10  Stalk Shape               8124 non-null   object\n",
      " 11  Stalk Root                8124 non-null   object\n",
      " 12  Stalk Surface Above Ring  8124 non-null   object\n",
      " 13  Stalk Surface Below Ring  8124 non-null   object\n",
      " 14  Stalk Color Above Ring    8124 non-null   object\n",
      " 15  Stalk Color Below Ring    8124 non-null   object\n",
      " 16  Veil Type                 8124 non-null   object\n",
      " 17  Veil Color                8124 non-null   object\n",
      " 18  Ring Number               8124 non-null   object\n",
      " 19  Ring Type                 8124 non-null   object\n",
      " 20  Spore Print Color         8124 non-null   object\n",
      " 21  Population                8124 non-null   object\n",
      " 22  Habitat                   8124 non-null   object\n",
      "dtypes: object(23)\n",
      "memory usage: 1.4+ MB\n"
     ]
    },
    {
     "data": {
      "text/plain": [
       "Stalk Root\n",
       "b    3776\n",
       "?    2480\n",
       "e    1120\n",
       "c     556\n",
       "r     192\n",
       "Name: count, dtype: int64"
      ]
     },
     "execution_count": 5,
     "metadata": {},
     "output_type": "execute_result"
    }
   ],
   "source": [
    "#looking into data in df. We know that one column, Stalk Root, has missing values marked by ?\n",
    "df.info()\n",
    "df['Stalk Root'].value_counts()"
   ]
  },
  {
   "cell_type": "code",
   "execution_count": 6,
   "id": "4203d9c4-44e0-412c-b1f5-6c6aa2a16c8b",
   "metadata": {},
   "outputs": [],
   "source": [
    "#Stalk Root shows 8124 data, so we need to change the ? to NULL\n",
    "for i in df['Stalk Root']:\n",
    "    df['Stalk Root'] = df['Stalk Root'].replace('?', np.nan)"
   ]
  },
  {
   "attachments": {
    "7cdf0fab-9ab1-4bd8-a394-1c352d4a4159.png": {
     "image/png": "[encoded data removed]"
    }
   },
   "cell_type": "markdown",
   "id": "3da54353-50d5-4c2a-b3cb-3aa0592c103d",
   "metadata": {},
   "source": [
    "## Calculate parent set entropy\n",
    "![image.png](attachment:7cdf0fab-9ab1-4bd8-a394-1c352d4a4159.png)\n",
    "https://medium.com/biased-algorithms/understanding-information-gain-in-decision-trees-a-complete-guide-|7774c6e0255b#:~:text=Information%20Gain%20helps%20measure%20exactly,each%20subset%20after%20the%20split."
   ]
  },
  {
   "cell_type": "code",
   "execution_count": 7,
   "id": "9bac23c4-b129-4e03-a3be-84e85ccacada",
   "metadata": {},
   "outputs": [],
   "source": [
    "#Get the count of each value in the target variable\n",
    "parent_counts = df['Edible'].value_counts()\n",
    "#get the total count of all mushrooms\n",
    "total_count = df['Edible'].count()"
   ]
  },
  {
   "cell_type": "code",
   "execution_count": 8,
   "id": "c6b45037-7e99-4bb3-835a-88530d7e6185",
   "metadata": {},
   "outputs": [
    {
     "data": {
      "text/plain": [
       "Edible\n",
       "e    4208\n",
       "p    3916\n",
       "Name: count, dtype: int64"
      ]
     },
     "execution_count": 8,
     "metadata": {},
     "output_type": "execute_result"
    }
   ],
   "source": [
    "parent_counts"
   ]
  },
  {
   "cell_type": "code",
   "execution_count": 9,
   "id": "2c3529ad-21bc-4f94-98c7-7e7e738f0839",
   "metadata": {},
   "outputs": [
    {
     "data": {
      "text/plain": [
       "np.int64(8124)"
      ]
     },
     "execution_count": 9,
     "metadata": {},
     "output_type": "execute_result"
    }
   ],
   "source": [
    "total_count"
   ]
  },
  {
   "cell_type": "code",
   "execution_count": 10,
   "id": "e503ecbe-27ac-4748-9629-154d8abda7f2",
   "metadata": {},
   "outputs": [],
   "source": [
    "#calculate probability of each value in the parent set\n",
    "parent_probs = parent_counts / total_count"
   ]
  },
  {
   "cell_type": "code",
   "execution_count": 11,
   "id": "c51483a2-0aba-4f36-9eed-5cf0c6123c59",
   "metadata": {},
   "outputs": [],
   "source": [
    "#calculate the log probability of each value in the parent set\n",
    "parent_logprobs = np.log2(parent_probs)"
   ]
  },
  {
   "cell_type": "code",
   "execution_count": 12,
   "id": "dbd78741-c487-431f-894c-4f8fefb6c24f",
   "metadata": {},
   "outputs": [],
   "source": [
    "#calculate the product of probability and log(probability) for each value\n",
    "parent_value_entropy = parent_probs*parent_logprobs"
   ]
  },
  {
   "cell_type": "code",
   "execution_count": 13,
   "id": "ab01ccb8-a49e-480a-807e-94733ec6632c",
   "metadata": {},
   "outputs": [],
   "source": [
    "#calculate the parent set entropy as the sum of the negative of the two terms in parent_value_entropy\n",
    "parent_set_entropy = 0\n",
    "for i in parent_value_entropy:\n",
    "    i = -i\n",
    "    parent_set_entropy = parent_set_entropy + i"
   ]
  },
  {
   "cell_type": "code",
   "execution_count": 14,
   "id": "041615bd-0a08-4c07-95f6-f8eb536ff0ef",
   "metadata": {},
   "outputs": [
    {
     "name": "stdout",
     "output_type": "stream",
     "text": [
      "Entropy of parent set:  0.9990678968724603\n"
     ]
    }
   ],
   "source": [
    "#print\n",
    "print(f'Entropy of parent set: ', parent_set_entropy)"
   ]
  },
  {
   "attachments": {
    "b2967545-7de3-4cc7-84ce-3f2396a19f40.png": {
     "image/png": "[encoded data removed]"
    }
   },
   "cell_type": "markdown",
   "id": "b4380012-4ee0-497d-97ee-2dafec13281b",
   "metadata": {},
   "source": [
    "## Calculate entropy for each set of the parent set split on each attribute\n",
    "![image.png](attachment:b2967545-7de3-4cc7-84ce-3f2396a19f40.png)\n",
    "https://medium.com/biased-algorithms/understanding-information-gain-in-decision-trees-a-complete-guide-7774c6e0255b#:~:text=Information%20Gain%20helps%20measure%20exactly,each%20subset%20after%20the%20split."
   ]
  },
  {
   "cell_type": "code",
   "execution_count": 15,
   "id": "838abc32-981b-4af8-af53-aedf6265eb87",
   "metadata": {},
   "outputs": [
    {
     "data": {
      "text/plain": [
       "np.int64(5644)"
      ]
     },
     "execution_count": 15,
     "metadata": {},
     "output_type": "execute_result"
    }
   ],
   "source": [
    "df['Stalk Root'].count()"
   ]
  },
  {
   "cell_type": "code",
   "execution_count": 16,
   "id": "82746a04-2e9d-41e3-99e0-c752c4348a9e",
   "metadata": {},
   "outputs": [],
   "source": [
    "#making a matrix of the count of edible / poisonous mushrooms for each set that is split from the parent set by attribute\n",
    "attr_counts = {}\n",
    "#loop through each column, grouping rows by values in the column and also p or e in Edible and counting them up with size()\n",
    "for column in df.columns[1:]:\n",
    "    count_df = df.groupby([column, 'Edible']).size().unstack(fill_value=0)\n",
    "    #store results in attr_counts\n",
    "    attr_counts[column] = count_df   "
   ]
  },
  {
   "cell_type": "code",
   "execution_count": 17,
   "id": "2a87a600-61ac-405b-a957-e307fb61c8e2",
   "metadata": {},
   "outputs": [],
   "source": [
    "#for each value in attr_counts, within each dataframe divide each value in each row by the sum of that row\n",
    "attr_proportion = {}\n",
    "for key in attr_counts:\n",
    "    proportion_df = attr_counts[key].div(attr_counts[key].sum(axis=1), axis=0)\n",
    "    attr_proportion[key] = proportion_df"
   ]
  },
  {
   "cell_type": "code",
   "execution_count": 18,
   "id": "bc346834-1f79-459a-ac25-058aea7868e4",
   "metadata": {},
   "outputs": [],
   "source": [
    "#calculate p * log_2(p) for each probability in each dataframe for each key\n",
    "attr_plogprob = {}\n",
    "for key in attr_proportion:\n",
    "    proplogprop = attr_proportion[key].map(plogp)\n",
    "    attr_plogprob[key] = proplogprop\n",
    "    "
   ]
  },
  {
   "cell_type": "code",
   "execution_count": 19,
   "id": "2e98165d-bb39-4e3d-9e9c-58ee54f788ca",
   "metadata": {},
   "outputs": [],
   "source": [
    "#First sum row-wise, and then take the sum of each row and multiply by the proportion that each row value occurs in the larger set\n",
    "attr_wa_entropy = {}\n",
    "for key in attr_plogprob:\n",
    "    row_sum = attr_plogprob[key].sum(axis=1)\n",
    "    prop_in_set = attr_counts[key].sum(axis=1) / (attr_counts[key].values.sum())\n",
    "    attr_set_entropy = -1 * row_sum * prop_in_set\n",
    "    attr_wa_entropy[key] = attr_set_entropy.values.sum()"
   ]
  },
  {
   "attachments": {
    "d9e58f9f-b9a2-4953-8f25-4e1f7c7cd32d.png": {
     "image/png": "[encoded data removed]"
    }
   },
   "cell_type": "markdown",
   "id": "6ef6681e-e72f-43d6-92db-39727698ccdf",
   "metadata": {},
   "source": [
    "## Information Gain\n",
    "![image.png](attachment:d9e58f9f-b9a2-4953-8f25-4e1f7c7cd32d.png)\n",
    "https://medium.com/biased-algorithms/understanding-information-gain-in-decision-trees-a-complete-guide-7774c6e0255b#:~:text=Information%20Gain%20helps%20measure%20exactly,each%20subset%20after%20the%20split."
   ]
  },
  {
   "cell_type": "code",
   "execution_count": 20,
   "id": "b3fe900f-e640-4a8b-9b1f-de89094a6b29",
   "metadata": {},
   "outputs": [],
   "source": [
    "attr_infogain = {}\n",
    "for key in attr_wa_entropy:\n",
    "    infogain = parent_set_entropy - attr_wa_entropy[key]\n",
    "    attr_infogain[key] = infogain"
   ]
  },
  {
   "cell_type": "code",
   "execution_count": 21,
   "id": "1e11ca61-40e8-46ed-ac0e-5cf6a7586195",
   "metadata": {},
   "outputs": [
    {
     "name": "stdout",
     "output_type": "stream",
     "text": [
      "0.9990678968724603\n",
      "{'Odor': np.float64(0.9060749773839998), 'Spore Print Color': np.float64(0.4807049176849153), 'Gill Color': np.float64(0.41697752341613137), 'Ring Type': np.float64(0.3180215107935376), 'Stalk Surface Above Ring': np.float64(0.2847255992184844), 'Stalk Surface Below Ring': np.float64(0.2718944733927463), 'Stalk Color Above Ring': np.float64(0.2538451734622398), 'Stalk Color Below Ring': np.float64(0.24141556652756646), 'Gill Size': np.float64(0.23015437514804604), 'Population': np.float64(0.2019580190668523), 'Bruises?': np.float64(0.19237948576121955), 'Habitat': np.float64(0.156833604605092), 'Stalk Root': np.float64(0.136965149496745), 'Gill Spacing': np.float64(0.10088318399657026), 'Cap Shape': np.float64(0.04879670193537289), 'Ring Number': np.float64(0.03845266924309043), 'Cap Color': np.float64(0.0360492829762038), 'Cap Surface': np.float64(0.028590232773772706), 'Veil Color': np.float64(0.02381701612091669), 'Gill Attachment': np.float64(0.014165027250616191), 'Stalk Shape': np.float64(0.00751677256966421), 'Veil Type': np.float64(0.0)}\n"
     ]
    }
   ],
   "source": [
    "print(parent_set_entropy)\n",
    "\n",
    "print(dict(sorted(attr_infogain.items(), key=lambda item: item[1], reverse=True)))"
   ]
  },
  {
   "cell_type": "markdown",
   "id": "b0a5b73e-16ef-4f8a-80c7-1b4983afeb15",
   "metadata": {},
   "source": [
    "## Plotting Attribute Entropy\n",
    "\n",
    "##### The entropy distribution for values within selected attributes will be plotted. Attributes chosen will be the maximum info gain, median info gain, and minimum info gain"
   ]
  },
  {
   "cell_type": "code",
   "execution_count": 22,
   "id": "9f723fdb-07f6-41d2-90a3-2e9e3a4dcab2",
   "metadata": {},
   "outputs": [],
   "source": [
    "from statistics import median"
   ]
  },
  {
   "cell_type": "code",
   "execution_count": 23,
   "id": "b878e598-e99f-4567-97bd-acc8bc1aa06b",
   "metadata": {},
   "outputs": [
    {
     "data": {
      "text/plain": [
       "22"
      ]
     },
     "execution_count": 23,
     "metadata": {},
     "output_type": "execute_result"
    }
   ],
   "source": [
    "len(attr_infogain)"
   ]
  },
  {
   "cell_type": "code",
   "execution_count": 24,
   "id": "66023e79-95f1-4bd7-b926-29efd1d5de88",
   "metadata": {},
   "outputs": [],
   "source": [
    "max_infogain = max(attr_infogain, key=attr_infogain.get)\n",
    "#calculate median\n",
    "if len(attr_infogain) % 2 == 0:\n",
    "    rough_median = int(len(attr_infogain) / 2)\n",
    "else:\n",
    "    rough_median = int(len(attr_infogain))\n",
    "median_infogain = list(sorted(attr_infogain.items(), key=lambda item: item[1], reverse=True))[rough_median]\n",
    "#calculate min\n",
    "min_infogain = min(attr_infogain, key=attr_infogain.get)"
   ]
  },
  {
   "cell_type": "code",
   "execution_count": 25,
   "id": "cf63ecce-40bd-44b6-bcdb-3aa614a66457",
   "metadata": {},
   "outputs": [
    {
     "name": "stdout",
     "output_type": "stream",
     "text": [
      "The attribute with the highest info gain is Odor \n",
      "The attribute with median info gain is Habitat \n",
      "The attribute with the lowest info gain is Veil Type\n"
     ]
    }
   ],
   "source": [
    "print( f'The attribute with the highest info gain is', max_infogain, '\\nThe attribute with median info gain is', median_infogain[0], '\\nThe attribute with the lowest info gain is', min_infogain)"
   ]
  },
  {
   "cell_type": "code",
   "execution_count": 26,
   "id": "daf1b8af-cdb9-47cd-904d-4f023f992389",
   "metadata": {},
   "outputs": [],
   "source": [
    "maxim = Plot_Preparation(max_infogain, attr_counts, attr_plogprob)"
   ]
  },
  {
   "cell_type": "code",
   "execution_count": 27,
   "id": "43c6754c-7c46-4475-b895-75422d35c321",
   "metadata": {},
   "outputs": [
    {
     "data": {
      "text/plain": [
       "list"
      ]
     },
     "execution_count": 27,
     "metadata": {},
     "output_type": "execute_result"
    }
   ],
   "source": [
    "type(maxim)"
   ]
  },
  {
   "cell_type": "code",
   "execution_count": 28,
   "id": "e624eed3-d82b-4892-8c81-8a46c6eb8fe7",
   "metadata": {},
   "outputs": [
    {
     "data": {
      "text/plain": [
       "[Odor\n",
       " a    0.049237\n",
       " c    0.023634\n",
       " f    0.265879\n",
       " l    0.049237\n",
       " m    0.004431\n",
       " p    0.031512\n",
       " s    0.070901\n",
       " y    0.070901\n",
       " n    0.434269\n",
       " dtype: float64,\n",
       " Odor\n",
       " a   -0.000000\n",
       " c   -0.000000\n",
       " f   -0.000000\n",
       " l   -0.000000\n",
       " m   -0.000000\n",
       " p   -0.000000\n",
       " s   -0.000000\n",
       " y   -0.000000\n",
       " n    0.214137\n",
       " dtype: float64,\n",
       " 'Odor']"
      ]
     },
     "execution_count": 28,
     "metadata": {},
     "output_type": "execute_result"
    }
   ],
   "source": [
    "maxim"
   ]
  },
  {
   "cell_type": "code",
   "execution_count": 99,
   "id": "77fead19-9d78-414b-90db-fab9e45d3243",
   "metadata": {},
   "outputs": [],
   "source": [
    "def plot_attribute_entropy(x: pd.Series, y: pd.Series, z: pd.Index, a: str):\n",
    "    xpos = []\n",
    "    c = 0\n",
    "    for i in range(len(x)):\n",
    "        if i == 0:\n",
    "            c += x[i]\n",
    "            xpos.append(x[i]/2)\n",
    "        else:\n",
    "            c += x[i]\n",
    "            xpos.append(c - x[i]/2)\n",
    "    #all_colors = ['red', 'gold', 'green', 'blue', 'orange', 'purple', 'yellow', 'pink', 'lightseagreen', 'chartreuse', 'lightsteelblue']\n",
    "    #all_colors = ['black', 'dimgray', 'gray', 'darkgray', 'silver', 'lightgray', 'gainsboro', 'whitesmoke', 'white', 'chartreuse', 'lightsteelblue']\n",
    "    #colors = all_colors[0:len(x)]\n",
    "    ax = plt.bar(xpos, \n",
    "              height = y, \n",
    "              width = x, \n",
    "              color = 'white',\n",
    "              alpha = 0.5,\n",
    "              hatch = '/',\n",
    "              edgecolor = 'black'\n",
    "             )\n",
    "    #plt.xticks(ticks = xpos, labels = z)\n",
    "    #plt.xticks([0, .1, .2, .3, .4, .5, .6, .7, .8, .9, 1.0]\n",
    "    plt.tick_params(direction = 'in', length = 0.2)\n",
    "    plt.xlim(0, 1)\n",
    "    plt.ylim(0, 1)\n",
    "    #plt.legend(fig.patches, z)\n",
    "    rects = ax.patches\n",
    "    for rect, label in zip(rects, z):\n",
    "        height = rect.get_height()\n",
    "        plt.text(rect.get_x() + rect.get_width() / 2, height/2, label, ha='center', va = 'bottom', backgroundcolor = 'white', bbox=dict(facecolor ='white', boxstyle='square'))\n",
    "    plt.grid(linestyle='dashed')\n",
    "    #plt.step(x, y, where='post')\n",
    "    plt.xlabel('Proportion')\n",
    "    plt.ylabel('Entropy')\n",
    "    plt.title(f'Entropy Chart for {a} Attribute')\n",
    "    #plt.grid(True)\n",
    "\n",
    "    plt.show()   \n",
    "    print(fig.patches)"
   ]
  },
  {
   "cell_type": "code",
   "execution_count": 100,
   "id": "3179ec24-328c-41d2-a5e8-30fcea6b8f35",
   "metadata": {},
   "outputs": [
    {
     "name": "stderr",
     "output_type": "stream",
     "text": [
      "C:\\Users\\Josh's PC\\AppData\\Local\\Temp\\ipykernel_22108\\653936160.py:6: FutureWarning: Series.__getitem__ treating keys as positions is deprecated. In a future version, integer keys will always be treated as labels (consistent with DataFrame behavior). To access a value by position, use `ser.iloc[pos]`\n",
      "  c += x[i]\n",
      "C:\\Users\\Josh's PC\\AppData\\Local\\Temp\\ipykernel_22108\\653936160.py:7: FutureWarning: Series.__getitem__ treating keys as positions is deprecated. In a future version, integer keys will always be treated as labels (consistent with DataFrame behavior). To access a value by position, use `ser.iloc[pos]`\n",
      "  xpos.append(x[i]/2)\n",
      "C:\\Users\\Josh's PC\\AppData\\Local\\Temp\\ipykernel_22108\\653936160.py:9: FutureWarning: Series.__getitem__ treating keys as positions is deprecated. In a future version, integer keys will always be treated as labels (consistent with DataFrame behavior). To access a value by position, use `ser.iloc[pos]`\n",
      "  c += x[i]\n",
      "C:\\Users\\Josh's PC\\AppData\\Local\\Temp\\ipykernel_22108\\653936160.py:10: FutureWarning: Series.__getitem__ treating keys as positions is deprecated. In a future version, integer keys will always be treated as labels (consistent with DataFrame behavior). To access a value by position, use `ser.iloc[pos]`\n",
      "  xpos.append(c - x[i]/2)\n"
     ]
    },
    {
     "data": {
      "image/png": "[encoded data removed]",
      "text/plain": [
       "<Figure size 640x480 with 1 Axes>"
      ]
     },
     "metadata": {},
     "output_type": "display_data"
    },
    {
     "ename": "NameError",
     "evalue": "name 'fig' is not defined",
     "output_type": "error",
     "traceback": [
      "\u001b[1;31m---------------------------------------------------------------------------\u001b[0m",
      "\u001b[1;31mNameError\u001b[0m                                 Traceback (most recent call last)",
      "Cell \u001b[1;32mIn[100], line 1\u001b[0m\n\u001b[1;32m----> 1\u001b[0m plot_attribute_entropy(maxim[\u001b[38;5;241m0\u001b[39m], maxim[\u001b[38;5;241m1\u001b[39m], maxim[\u001b[38;5;241m0\u001b[39m]\u001b[38;5;241m.\u001b[39mindex, maxim[\u001b[38;5;241m2\u001b[39m])\n",
      "Cell \u001b[1;32mIn[99], line 40\u001b[0m, in \u001b[0;36mplot_attribute_entropy\u001b[1;34m(x, y, z, a)\u001b[0m\n\u001b[0;32m     37\u001b[0m \u001b[38;5;66;03m#plt.grid(True)\u001b[39;00m\n\u001b[0;32m     39\u001b[0m plt\u001b[38;5;241m.\u001b[39mshow()   \n\u001b[1;32m---> 40\u001b[0m \u001b[38;5;28mprint\u001b[39m(fig\u001b[38;5;241m.\u001b[39mpatches)\n",
      "\u001b[1;31mNameError\u001b[0m: name 'fig' is not defined"
     ]
    }
   ],
   "source": [
    "plot_attribute_entropy(maxim[0], maxim[1], maxim[0].index, maxim[2])"
   ]
  },
  {
   "cell_type": "code",
   "execution_count": 37,
   "id": "8e402e63-a1a2-4000-aa46-e658af2720d6",
   "metadata": {},
   "outputs": [],
   "source": [
    "media = Plot_Preparation(median_infogain[0], attr_counts, attr_plogprob)"
   ]
  },
  {
   "cell_type": "code",
   "execution_count": 38,
   "id": "5c34537a-d9f7-4783-aef3-7ec8db33e8ee",
   "metadata": {},
   "outputs": [
    {
     "name": "stderr",
     "output_type": "stream",
     "text": [
      "C:\\Users\\Josh's PC\\AppData\\Local\\Temp\\ipykernel_22108\\3691989650.py:6: FutureWarning: Series.__getitem__ treating keys as positions is deprecated. In a future version, integer keys will always be treated as labels (consistent with DataFrame behavior). To access a value by position, use `ser.iloc[pos]`\n",
      "  c += x[i]\n",
      "C:\\Users\\Josh's PC\\AppData\\Local\\Temp\\ipykernel_22108\\3691989650.py:7: FutureWarning: Series.__getitem__ treating keys as positions is deprecated. In a future version, integer keys will always be treated as labels (consistent with DataFrame behavior). To access a value by position, use `ser.iloc[pos]`\n",
      "  xpos.append(x[i]/2)\n",
      "C:\\Users\\Josh's PC\\AppData\\Local\\Temp\\ipykernel_22108\\3691989650.py:9: FutureWarning: Series.__getitem__ treating keys as positions is deprecated. In a future version, integer keys will always be treated as labels (consistent with DataFrame behavior). To access a value by position, use `ser.iloc[pos]`\n",
      "  c += x[i]\n",
      "C:\\Users\\Josh's PC\\AppData\\Local\\Temp\\ipykernel_22108\\3691989650.py:10: FutureWarning: Series.__getitem__ treating keys as positions is deprecated. In a future version, integer keys will always be treated as labels (consistent with DataFrame behavior). To access a value by position, use `ser.iloc[pos]`\n",
      "  xpos.append(c - x[i]/2)\n"
     ]
    },
    {
     "data": {
      "image/png": "[encoded data removed]",
      "text/plain": [
       "<Figure size 640x480 with 1 Axes>"
      ]
     },
     "metadata": {},
     "output_type": "display_data"
    }
   ],
   "source": [
    "plot_attribute_entropy(media[0], media[1], media[0].index, media[2])"
   ]
  },
  {
   "cell_type": "code",
   "execution_count": 33,
   "id": "9eea48cc-d08e-48d6-bcc4-090240c00f62",
   "metadata": {},
   "outputs": [],
   "source": [
    "minim = Plot_Preparation(min_infogain, attr_counts, attr_plogprob)"
   ]
  },
  {
   "cell_type": "code",
   "execution_count": 34,
   "id": "2025ea81-ef77-42b6-a599-d74f9eca8398",
   "metadata": {},
   "outputs": [
    {
     "ename": "NameError",
     "evalue": "name 'plot_horizontal_lines' is not defined",
     "output_type": "error",
     "traceback": [
      "\u001b[1;31m---------------------------------------------------------------------------\u001b[0m",
      "\u001b[1;31mNameError\u001b[0m                                 Traceback (most recent call last)",
      "Cell \u001b[1;32mIn[34], line 1\u001b[0m\n\u001b[1;32m----> 1\u001b[0m plot_horizontal_lines(minim[\u001b[38;5;241m0\u001b[39m], minim[\u001b[38;5;241m1\u001b[39m], minim[\u001b[38;5;241m2\u001b[39m])\n",
      "\u001b[1;31mNameError\u001b[0m: name 'plot_horizontal_lines' is not defined"
     ]
    }
   ],
   "source": [
    "plot_horizontal_lines(minim[0], minim[1], minim[2])"
   ]
  },
  {
   "cell_type": "code",
   "execution_count": null,
   "id": "80f49065-8a8a-4d59-b203-5d474c923101",
   "metadata": {},
   "outputs": [],
   "source": []
  }
 ],
 "metadata": {
  "kernelspec": {
   "display_name": "Python 3 (ipykernel)",
   "language": "python",
   "name": "python3"
  },
  "language_info": {
   "codemirror_mode": {
    "name": "ipython",
    "version": 3
   },
   "file_extension": ".py",
   "mimetype": "text/x-python",
   "name": "python",
   "nbconvert_exporter": "python",
   "pygments_lexer": "ipython3",
   "version": "3.13.2"
  }
 },
 "nbformat": 4,
 "nbformat_minor": 5
}
